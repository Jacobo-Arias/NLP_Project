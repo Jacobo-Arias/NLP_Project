{
 "cells": [
  {
   "cell_type": "markdown",
   "metadata": {},
   "source": [
    "# Análisis de sentimientos en Twitter 👎👍\n",
    "\n",
    "Desarrollado por Jacobo Arias. <br>\n",
    "Github: [@Jacobo-Arias](https://github.com/Jacobo-Arias)"
   ]
  },
  {
   "cell_type": "markdown",
   "metadata": {},
   "source": [
    "## Resumen\n",
    "\n",
    "Twitter se podría considerar como un mini blog donde las personas publican tuits sobre politica, algun tema de deportes, chismes o incluso simples pensamientos que se les ocurran, en este trabajo se toma una base de datos con 1'600.000 [1]  tuits clasificados entre positivos y negativos (4 y 0 respectivamente) y se compara con la clasificación dada por la red preentranada para clasificación de sentimientos VADER con los datos en crudo y con un pre-procesamiento dado, el cual incluye tokenización, eliminación de stopwords, eliminación de símbolos no alfabéticos y lematización dando un resultado muy similar, ambos al rededor del 50%-51% de efectividad; Posteriormente se realiza el mismo ejercicio con Stanza, otra herramiente para la clasificación de sentimientos desarollada por el grupo de procesamiento de lenguaje natural de la Universidad de Stanford, para ambos casos se utilizaron 50000 datos positivos y negativos elegidos aleatoriamente ya que el tiempo de procesamiento con esta herramienta es mayor, dando como resultados 48.99% y 38.82% de acierto con los datos si procesar y procesados respectivamente."
   ]
  },
  {
   "cell_type": "markdown",
   "metadata": {},
   "source": [
    "## Introducción\n",
    "\n",
    "es una red social permite enviar mensajes de texto plano de corta longitud, con un máximo de 280 caracteres  llamados tuits, que se muestran en la página principal del usuario. Se podría considerar como un mini blog donde las personas publican tuits sobre política, algún tema de deportes, chismes o incluso simples pensamientos que se les ocurran; En este trabajo se toma una base de datos con 1'600.000 tuits previamente clasificados como positivos o negativos con valores de 4 y 0 respectivamente.\n",
    "\n",
    "### Análisis de sentimientos\n",
    "\n",
    "\"El análisis de sentimientos puede ayudarlo a determinar la proporción de interacciones positivas y negativas sobre un tema específico. Puede analizar cuerpos de texto, como comentarios, tweets y reseñas de productos, para obtener información de su audiencia.\"\n",
    "\n",
    "\n",
    "### Vader\n",
    "\n",
    "\n",
    "\"VADER (Valence Aware Dictionary and sEntiment Reasoner) es una herramienta de análisis de sentimientos basada en reglas y léxico que está específicamente en sintonía con los sentimientos expresados en las redes sociales\"[2].\n",
    "\n",
    "Como bien lo dice en el repositorio oficial, VADER presenta un mejor desempeño en textos cortos y con la forma de expresión en redes sociales, por dicha razón fue la que se decidió elegir VADER como el analizador para este proyecto, además de su facilidad de usar y resultados claros que arroja\n",
    "\n",
    "### Stanza\n",
    "\n",
    "\"Stanza es una colección de herramientas precisas y eficientes para el análisis lingüístico de muchos lenguajes humanos. Desde el texto en bruto hasta el análisis sintáctico y el reconocimiento de entidades, Stanza lleva modelos de PNL de última generación a los idiomas que elijas.\"[3]\n",
    "\n",
    "Stanza es una librería de python creada por el grupo de procesamiento de lenguaje natural de la Universidad de Stanford (Stanford NLP group) para el procesamiento de varios lenguajes humanos y actualmente presenta modelos en Ingles, Chino y Alemán"
   ]
  },
  {
   "cell_type": "markdown",
   "metadata": {},
   "source": [
    "## Planteamiento del problema\n",
    "\n",
    "\"Twitter es mucho mas de quienes lo han calificado como un simple chat, y el impacto que ha tenido este microblogging es descomunal.\" [4]\n",
    "\n",
    "Y así es, en pleno siglo XXI, donde vinimos en la época de la inmediatez Twitter se ha vuelto una de las redes sociales más usadas en la actualidad gracias a su diseño simplista y fácil de usar, en el cual mediante textos de 280 caracteres se puede expresar una idea o hacer un comentario sobre temas que pueden ir desde deportes, salud, actualidad periodística hasta temas como la música y el chisme, además de recibir respuesta al instante de otras personas haciendo que la comunicación sea bidireccional llegando hasta cientos de miles de personas según el caso.\n",
    "\n",
    "Gracias a su inmensa cantidad de usuarios y su inmediatez en la publicación se puede llegar a saber de qué temas la gente está hablando más en un momento dado, bien sea un nuevo tema musical de cierto artista, política o un producto nuevo de alguna empresa.\n",
    "\n",
    "Al generase una discusión tan abierta y accesible a tantas personas a través de Twitter, es claro que todos los tuits no tendrán la misma connotación, por lo que desde el punto de vista del análisis de sentimientos de podrían categorizar en tuits negativos, positivos o neutros y de esto sale la necesidad de hacer un análisis de sentimientos para identificar si las opiniones de las personas son positivas, negativas o neutras.\n",
    "\n",
    "Es por todo esto que se decide tomar una base de datos con 1’600.000 tuits, repartidos entre positivos y negativos a partes iguales y analizarlos con algunas de las herramientas disponibles en el lenguaje python y analizar los resultados respecto a los datos originales, lo cual nos deja la pregunta; ¿Qué porcentaje de similitud arrojarán las herramientas de análisis de sentimientos frente a la clasificación original"
   ]
  },
  {
   "cell_type": "markdown",
   "metadata": {},
   "source": [
    "## Justificación\n",
    "El análisis de sentimientos ha sido aplicado en distintas áreas como lo son el servicio al cliente, ventas, productos, etc.. Y ya que twitter es una fuente tan basta e opiniones de diversos usuarios se hace fundamental generar un análisis de dichas opiniones y comparar que herramientas arrojan un mejor resultado\n",
    "\n",
    "Con el desarrollo de este proyecto se busca analizar dos herramientas existentes en el análisis de sentimientos y evaluar sus resultados con y sin un pre-procesamiento previo."
   ]
  },
  {
   "cell_type": "markdown",
   "metadata": {},
   "source": [
    "## Desarrollo "
   ]
  },
  {
   "cell_type": "markdown",
   "metadata": {},
   "source": [
    "Para ejecutar este cuaderno se debe descargar la base de datos [aqui](https://www.kaggle.com/kazanova/sentiment140), extraer un archivo en una carpeta llamada *tweets_data* y renombrarlo como *Raw_tweets.csv*, dicha carpeta debe estar en el mismo directorio que este cuaderno de jupyter\n",
    "\n",
    "Las librerías requeridas para este proyecto son: nltk, stanza, python-csv y matplotlib, si no tiene alguna de estas instaladas decomentar la línea correspondiente en la siguiente celda y ejecutarla"
   ]
  },
  {
   "cell_type": "code",
   "execution_count": 1,
   "metadata": {},
   "outputs": [],
   "source": [
    "# !pip install nltk\n",
    "# !pip install stanza\n",
    "# !pip install python-csv\n",
    "# !pip install matplotlib"
   ]
  },
  {
   "cell_type": "code",
   "execution_count": 2,
   "metadata": {},
   "outputs": [],
   "source": [
    "import csv\n",
    "import sys\n",
    "import nltk\n",
    "from random import shuffle\n",
    "from nltk.corpus import wordnet\n",
    "import matplotlib.pyplot as plt\n",
    "from nltk.sentiment import SentimentIntensityAnalyzer\n",
    "from nltk.stem import WordNetLemmatizer\n",
    "lemmatizer = WordNetLemmatizer()"
   ]
  },
  {
   "cell_type": "code",
   "execution_count": 3,
   "metadata": {},
   "outputs": [
    {
     "name": "stderr",
     "output_type": "stream",
     "text": [
      "[nltk_data] Downloading package names to\n",
      "[nltk_data]     C:\\Users\\EQUIPO\\AppData\\Roaming\\nltk_data...\n",
      "[nltk_data]   Package names is already up-to-date!\n",
      "[nltk_data] Downloading package stopwords to\n",
      "[nltk_data]     C:\\Users\\EQUIPO\\AppData\\Roaming\\nltk_data...\n",
      "[nltk_data]   Package stopwords is already up-to-date!\n",
      "[nltk_data] Downloading package vader_lexicon to\n",
      "[nltk_data]     C:\\Users\\EQUIPO\\AppData\\Roaming\\nltk_data...\n",
      "[nltk_data]   Package vader_lexicon is already up-to-date!\n",
      "[nltk_data] Downloading package punkt to\n",
      "[nltk_data]     C:\\Users\\EQUIPO\\AppData\\Roaming\\nltk_data...\n",
      "[nltk_data]   Package punkt is already up-to-date!\n",
      "[nltk_data] Downloading package words to\n",
      "[nltk_data]     C:\\Users\\EQUIPO\\AppData\\Roaming\\nltk_data...\n",
      "[nltk_data]   Package words is already up-to-date!\n",
      "[nltk_data] Downloading package wordnet to\n",
      "[nltk_data]     C:\\Users\\EQUIPO\\AppData\\Roaming\\nltk_data...\n",
      "[nltk_data]   Package wordnet is already up-to-date!\n"
     ]
    },
    {
     "data": {
      "text/plain": [
       "True"
      ]
     },
     "execution_count": 3,
     "metadata": {},
     "output_type": "execute_result"
    }
   ],
   "source": [
    "nltk.download([\n",
    "    \"names\",\n",
    "    \"stopwords\",\n",
    "    \"vader_lexicon\",\n",
    "    \"punkt\",\n",
    "    \"words\",\n",
    "    \"wordnet\"\n",
    "])"
   ]
  },
  {
   "cell_type": "code",
   "execution_count": 4,
   "metadata": {},
   "outputs": [],
   "source": [
    "tweets = []\n",
    "with open(\"tweets_data/Raw_tweets.csv\", encoding='latin1') as fichero:\n",
    "    lector = csv.reader(fichero)\n",
    "    for line in lector:\n",
    "        tweets.append({\"polarity\":line[0],\"text\":line[-1]})"
   ]
  },
  {
   "cell_type": "code",
   "execution_count": 5,
   "metadata": {},
   "outputs": [],
   "source": [
    "polaridades = {'0':0,'2':0,'4':0}\n",
    "for t in tweets:\n",
    "    polaridades[t['polarity']] += 1"
   ]
  },
  {
   "cell_type": "code",
   "execution_count": 6,
   "metadata": {},
   "outputs": [
    {
     "data": {
      "text/plain": [
       "{'0': 800000, '2': 0, '4': 800000}"
      ]
     },
     "execution_count": 6,
     "metadata": {},
     "output_type": "execute_result"
    }
   ],
   "source": [
    "polaridades"
   ]
  },
  {
   "cell_type": "code",
   "execution_count": 7,
   "metadata": {},
   "outputs": [],
   "source": [
    "polaridades = {\"Negativo\":polaridades[\"0\"],\"Neutro\":polaridades[\"2\"],\"Positivo\":polaridades[\"4\"]}"
   ]
  },
  {
   "cell_type": "code",
   "execution_count": 8,
   "metadata": {},
   "outputs": [
    {
     "data": {
      "text/plain": [
       "{'Negativo': 800000, 'Neutro': 0, 'Positivo': 800000}"
      ]
     },
     "execution_count": 8,
     "metadata": {},
     "output_type": "execute_result"
    }
   ],
   "source": [
    "polaridades"
   ]
  },
  {
   "cell_type": "code",
   "execution_count": 9,
   "metadata": {},
   "outputs": [
    {
     "data": {
      "text/plain": [
       "<Container object of 3 artists>"
      ]
     },
     "execution_count": 9,
     "metadata": {},
     "output_type": "execute_result"
    },
    {
     "data": {
      "image/png": "[encoded data removed]",
      "text/plain": [
       "<matplotlib.figure.Figure at 0x202de31d9b0>"
      ]
     },
     "metadata": {},
     "output_type": "display_data"
    }
   ],
   "source": [
    "plt.bar(polaridades.keys(),polaridades.values(), color = [\"red\",\"lightblue\",\"green\"])"
   ]
  },
  {
   "cell_type": "code",
   "execution_count": 10,
   "metadata": {},
   "outputs": [],
   "source": [
    "def vader_analysis(tweets):\n",
    "    analyzer = SentimentIntensityAnalyzer()\n",
    "    result = {\"Negativo\":0,\"Neutro\":0,\"Positivo\":0}\n",
    "    tweets_vader = []\n",
    "    correct = 0\n",
    "    for tweet in tweets:\n",
    "        polarity = None\n",
    "        compound = analyzer.polarity_scores(tweet[\"text\"])[\"compound\"]\n",
    "        if compound > 0.05:\n",
    "            result[\"Positivo\"] += 1\n",
    "            polarity = \"4\"\n",
    "        elif compound < -0.05: \n",
    "            polarity = \"0\"\n",
    "            result[\"Negativo\"] += 1\n",
    "        else:\n",
    "            polarity = \"2\"\n",
    "            result[\"Neutro\"] += 1\n",
    "        \n",
    "        tweets_vader.append({\"polarity\":polarity,\"text\":tweet[\"text\"]})\n",
    "        if tweet[\"polarity\"] == polarity:\n",
    "            correct += 1\n",
    "    return result, tweets_vader, correct"
   ]
  },
  {
   "cell_type": "code",
   "execution_count": 11,
   "metadata": {},
   "outputs": [],
   "source": [
    "vader_result,tweets_vader, correct = vader_analysis(tweets)"
   ]
  },
  {
   "cell_type": "code",
   "execution_count": 12,
   "metadata": {},
   "outputs": [
    {
     "data": {
      "text/plain": [
       "{'Negativo': 414821, 'Neutro': 443836, 'Positivo': 741343}"
      ]
     },
     "execution_count": 12,
     "metadata": {},
     "output_type": "execute_result"
    }
   ],
   "source": [
    "vader_result"
   ]
  },
  {
   "cell_type": "code",
   "execution_count": 13,
   "metadata": {},
   "outputs": [
    {
     "data": {
      "text/plain": [
       "<Container object of 3 artists>"
      ]
     },
     "execution_count": 13,
     "metadata": {},
     "output_type": "execute_result"
    },
    {
     "data": {
      "image/png": "[encoded data removed]",
      "text/plain": [
       "<matplotlib.figure.Figure at 0x20283c06898>"
      ]
     },
     "metadata": {},
     "output_type": "display_data"
    }
   ],
   "source": [
    "plt.bar(vader_result.keys(),vader_result.values(), color = [\"red\",\"lightblue\",\"green\"])"
   ]
  },
  {
   "cell_type": "code",
   "execution_count": 14,
   "metadata": {
    "scrolled": true
   },
   "outputs": [
    {
     "name": "stdout",
     "output_type": "stream",
     "text": [
      "827378 de 1600000 correctas, teniendo un 51.71% clasificados correctamente\n"
     ]
    }
   ],
   "source": [
    "print(f\"{correct} de {len(tweets)} correctas, teniendo un {correct / len(tweets):.2%} clasificados correctamente\")"
   ]
  },
  {
   "cell_type": "markdown",
   "metadata": {},
   "source": [
    "### Ahora un preprocesamiento"
   ]
  },
  {
   "cell_type": "code",
   "execution_count": 15,
   "metadata": {},
   "outputs": [],
   "source": [
    "stopwords = nltk.corpus.stopwords.words(\"english\")"
   ]
  },
  {
   "cell_type": "code",
   "execution_count": 16,
   "metadata": {},
   "outputs": [],
   "source": [
    "tweets_pos = [x for x in tweets if x[\"polarity\"] == \"4\"]\n",
    "tweets_neg = [x for x in tweets if x[\"polarity\"] == \"0\"]\n",
    "shuffle(tweets_pos)\n",
    "shuffle(tweets_neg)"
   ]
  },
  {
   "cell_type": "code",
   "execution_count": 17,
   "metadata": {
    "scrolled": false
   },
   "outputs": [
    {
     "name": "stdout",
     "output_type": "stream",
     "text": [
      "800000 800000\n"
     ]
    }
   ],
   "source": [
    "print(len(tweets_neg), len(tweets_pos))"
   ]
  },
  {
   "cell_type": "code",
   "execution_count": 18,
   "metadata": {},
   "outputs": [
    {
     "name": "stdout",
     "output_type": "stream",
     "text": [
      "500000\n"
     ]
    }
   ],
   "source": [
    "sub_tweets = tweets_pos[0:250000].copy() + tweets_neg[0:250000].copy()\n",
    "print(len(sub_tweets))"
   ]
  },
  {
   "cell_type": "code",
   "execution_count": 19,
   "metadata": {},
   "outputs": [],
   "source": [
    "def decontracted(phrase):\n",
    "    # Specific\n",
    "    #phrase = re.sub(r\"won\\'t\", \"will not\", phrase)\n",
    "    #phrase = re.sub(r\"can\\'t\", \"can not\", phrase)\n",
    "\n",
    "    # General\n",
    "    phrase = re.sub(r\"n\\'t\", \" not\", phrase)\n",
    "    phrase = re.sub(r\"\\'re\", \" be\", phrase)\n",
    "    phrase = re.sub(r\"\\'s\", \" be\", phrase)\n",
    "    phrase = re.sub(r\"\\'d\", \" will\", phrase)\n",
    "    phrase = re.sub(r\"\\'ll\", \" will\", phrase)\n",
    "    phrase = re.sub(r\"\\'t\", \" not\", phrase)\n",
    "    phrase = re.sub(r\"\\'ve\", \" have\", phrase)\n",
    "    phrase = re.sub(r\"\\'m\", \" be\", phrase)\n",
    "    return phrase"
   ]
  },
  {
   "cell_type": "code",
   "execution_count": 20,
   "metadata": {},
   "outputs": [],
   "source": [
    "def get_wordnet_pos(treebank_tag):\n",
    "\n",
    "    if treebank_tag.startswith('J'):\n",
    "        return wordnet.ADJ\n",
    "    elif treebank_tag.startswith('V'):\n",
    "        return wordnet.VERB\n",
    "    elif treebank_tag.startswith('N'):\n",
    "        return wordnet.NOUN\n",
    "    elif treebank_tag.startswith('R'):\n",
    "        return wordnet.ADV\n",
    "    else:\n",
    "        return wordnet.VERB"
   ]
  },
  {
   "cell_type": "code",
   "execution_count": 21,
   "metadata": {},
   "outputs": [],
   "source": [
    "for t in sub_tweets:\n",
    "    text = t[\"text\"]\n",
    "    text = nltk.word_tokenize(text)\n",
    "    text = [w for w in text if w.lower() not in stopwords]\n",
    "    text = [w for w in text if w.isalpha()]\n",
    "    tagged = nltk.pos_tag(text)\n",
    "    tokens_lemma = [lemmatizer.lemmatize(token[0], get_wordnet_pos(token[1])) for token in tagged]\n",
    "    text = \" \".join(tokens_lemma)\n",
    "    t[\"text\"] = text"
   ]
  },
  {
   "cell_type": "code",
   "execution_count": 22,
   "metadata": {},
   "outputs": [],
   "source": [
    "vader_result,tweets_vader, correct = vader_analysis(sub_tweets)"
   ]
  },
  {
   "cell_type": "code",
   "execution_count": 23,
   "metadata": {},
   "outputs": [
    {
     "data": {
      "text/plain": [
       "{'Negativo': 115753, 'Neutro': 136877, 'Positivo': 247370}"
      ]
     },
     "execution_count": 23,
     "metadata": {},
     "output_type": "execute_result"
    }
   ],
   "source": [
    "vader_result"
   ]
  },
  {
   "cell_type": "code",
   "execution_count": 24,
   "metadata": {},
   "outputs": [
    {
     "data": {
      "text/plain": [
       "<Container object of 3 artists>"
      ]
     },
     "execution_count": 24,
     "metadata": {},
     "output_type": "execute_result"
    },
    {
     "data": {
      "image/png": "[encoded data removed]",
      "text/plain": [
       "<matplotlib.figure.Figure at 0x202a6c30358>"
      ]
     },
     "metadata": {},
     "output_type": "display_data"
    }
   ],
   "source": [
    "plt.bar(vader_result.keys(),vader_result.values(), color = [\"red\",\"lightblue\",\"green\"])"
   ]
  },
  {
   "cell_type": "code",
   "execution_count": 25,
   "metadata": {},
   "outputs": [
    {
     "name": "stdout",
     "output_type": "stream",
     "text": [
      "250907 de 500000 correctas, teniendo un 50.18% clasificados correctamente\n"
     ]
    }
   ],
   "source": [
    "print(f\"{correct} de {len(sub_tweets)} correctas, teniendo un {correct / len(sub_tweets):.2%} clasificados correctamente\")"
   ]
  },
  {
   "cell_type": "markdown",
   "metadata": {},
   "source": [
    "## Ahora con Stanza"
   ]
  },
  {
   "cell_type": "code",
   "execution_count": 26,
   "metadata": {},
   "outputs": [],
   "source": [
    "import stanza"
   ]
  },
  {
   "cell_type": "code",
   "execution_count": 27,
   "metadata": {},
   "outputs": [],
   "source": [
    "tweets = []\n",
    "with open(\"tweets_data/Raw_tweets.csv\", encoding='latin1') as fichero:\n",
    "    lector = csv.reader(fichero)\n",
    "    for line in lector:\n",
    "        tweets.append({\"polarity\":line[0],\"text\":line[-1]})"
   ]
  },
  {
   "cell_type": "code",
   "execution_count": 28,
   "metadata": {},
   "outputs": [],
   "source": [
    "def stanza_analysis(tweets):\n",
    "    stn = stanza.Pipeline(lang='en', processors='tokenize,sentiment')\n",
    "    result = {\"Negativo\":0,\"Neutro\":0,\"Positivo\":0}\n",
    "    tweets_stanza = []\n",
    "    correct = 0\n",
    "    for tweet in tweets:\n",
    "        polarity = None\n",
    "        sents = stn(tweet[\"text\"]).sentences\n",
    "        media = 0\n",
    "        for s in sents:\n",
    "            media += s.sentiment\n",
    "        if len(sents) == 0:\n",
    "            continue\n",
    "        try:\n",
    "            media /= len(sents)\n",
    "        except:\n",
    "            print(tweet[\"text\"],\"\\n\",sents)\n",
    "            return 0,0,0\n",
    "        if media > 1.2:\n",
    "            result[\"Positivo\"] += 1\n",
    "            polarity = \"4\"\n",
    "        elif media < 0.8: \n",
    "            polarity = \"0\"\n",
    "            result[\"Negativo\"] += 1\n",
    "        else:\n",
    "            polarity = \"2\"\n",
    "            result[\"Neutro\"] += 1\n",
    "        \n",
    "        tweets_stanza.append({\"polarity\":polarity,\"text\":tweet[\"text\"]})\n",
    "        if tweet[\"polarity\"] == polarity:\n",
    "            correct += 1\n",
    "    return result, tweets_stanza, correct"
   ]
  },
  {
   "cell_type": "code",
   "execution_count": 29,
   "metadata": {},
   "outputs": [],
   "source": [
    "tweets_pos = [x for x in tweets if x[\"polarity\"] == \"4\"]\n",
    "tweets_neg = [x for x in tweets if x[\"polarity\"] == \"0\"]\n",
    "shuffle(tweets_pos)\n",
    "shuffle(tweets_neg)"
   ]
  },
  {
   "cell_type": "code",
   "execution_count": 30,
   "metadata": {
    "scrolled": false
   },
   "outputs": [
    {
     "name": "stdout",
     "output_type": "stream",
     "text": [
      "800000 800000\n",
      "100000\n"
     ]
    }
   ],
   "source": [
    "print(len(tweets_neg), len(tweets_pos))\n",
    "sub_tweets = tweets_pos[0:50000].copy() + tweets_neg[0:50000].copy()\n",
    "print(len(sub_tweets))"
   ]
  },
  {
   "cell_type": "code",
   "execution_count": 31,
   "metadata": {
    "scrolled": false
   },
   "outputs": [
    {
     "name": "stderr",
     "output_type": "stream",
     "text": [
      "2021-07-03 13:49:09 INFO: Loading these models for language: en (English):\n",
      "========================\n",
      "| Processor | Package  |\n",
      "------------------------\n",
      "| tokenize  | combined |\n",
      "| sentiment | sstplus  |\n",
      "========================\n",
      "\n",
      "2021-07-03 13:49:09 INFO: Use device: cpu\n",
      "2021-07-03 13:49:09 INFO: Loading: tokenize\n",
      "2021-07-03 13:49:10 INFO: Loading: sentiment\n",
      "2021-07-03 13:49:12 INFO: Done loading processors!\n",
      "D:\\Anaconda\\lib\\site-packages\\torch\\nn\\functional.py:652: UserWarning: Named tensors and all their associated APIs are an experimental feature and subject to change. Please do not use them for anything important until they are released as stable. (Triggered internally at  ..\\c10/core/TensorImpl.h:1156.)\n",
      "  return torch.max_pool1d(input, kernel_size, stride, padding, dilation, ceil_mode)\n"
     ]
    }
   ],
   "source": [
    "stanza_result,tweets_Stanza, correct = stanza_analysis(sub_tweets)"
   ]
  },
  {
   "cell_type": "code",
   "execution_count": 32,
   "metadata": {},
   "outputs": [
    {
     "data": {
      "text/plain": [
       "{'Negativo': 39459, 'Neutro': 35549, 'Positivo': 24992}"
      ]
     },
     "execution_count": 32,
     "metadata": {},
     "output_type": "execute_result"
    }
   ],
   "source": [
    "stanza_result"
   ]
  },
  {
   "cell_type": "code",
   "execution_count": 33,
   "metadata": {},
   "outputs": [
    {
     "data": {
      "text/plain": [
       "<Container object of 3 artists>"
      ]
     },
     "execution_count": 33,
     "metadata": {},
     "output_type": "execute_result"
    },
    {
     "data": {
      "image/png": "[encoded data removed]",
      "text/plain": [
       "<matplotlib.figure.Figure at 0x202fa6ea160>"
      ]
     },
     "metadata": {},
     "output_type": "display_data"
    }
   ],
   "source": [
    "plt.bar(stanza_result.keys(),stanza_result.values(), color = [\"red\",\"lightblue\",\"green\"])"
   ]
  },
  {
   "cell_type": "code",
   "execution_count": 34,
   "metadata": {
    "scrolled": true
   },
   "outputs": [
    {
     "name": "stdout",
     "output_type": "stream",
     "text": [
      "48993 de 100000 correctas, teniendo un 48.99% clasificados correctamente\n"
     ]
    }
   ],
   "source": [
    "print(f\"{correct} de {len(sub_tweets)} correctas, teniendo un {correct / len(sub_tweets):.2%} clasificados correctamente\")"
   ]
  },
  {
   "cell_type": "markdown",
   "metadata": {},
   "source": [
    "### Ahora con un preprocesamiento"
   ]
  },
  {
   "cell_type": "code",
   "execution_count": 35,
   "metadata": {
    "scrolled": true
   },
   "outputs": [
    {
     "data": {
      "text/plain": [
       "100000"
      ]
     },
     "execution_count": 35,
     "metadata": {},
     "output_type": "execute_result"
    }
   ],
   "source": [
    "len(sub_tweets)"
   ]
  },
  {
   "cell_type": "code",
   "execution_count": 36,
   "metadata": {},
   "outputs": [],
   "source": [
    "for t in sub_tweets:\n",
    "    text = t[\"text\"]\n",
    "    text = nltk.word_tokenize(text)\n",
    "    text = [w for w in text if w.isalpha()]\n",
    "    text = [w for w in text if w.lower() not in stopwords]\n",
    "    tagged = nltk.pos_tag(text)\n",
    "    tokens_lemma = [lemmatizer.lemmatize(token[0], get_wordnet_pos(token[1])) for token in tagged]\n",
    "    text = \" \".join(tokens_lemma)\n",
    "    t[\"text\"] = text"
   ]
  },
  {
   "cell_type": "code",
   "execution_count": 37,
   "metadata": {
    "scrolled": false
   },
   "outputs": [
    {
     "name": "stderr",
     "output_type": "stream",
     "text": [
      "2021-07-03 14:42:37 INFO: Loading these models for language: en (English):\n",
      "========================\n",
      "| Processor | Package  |\n",
      "------------------------\n",
      "| tokenize  | combined |\n",
      "| sentiment | sstplus  |\n",
      "========================\n",
      "\n",
      "2021-07-03 14:42:37 INFO: Use device: cpu\n",
      "2021-07-03 14:42:37 INFO: Loading: tokenize\n",
      "2021-07-03 14:42:37 INFO: Loading: sentiment\n",
      "2021-07-03 14:42:38 INFO: Done loading processors!\n"
     ]
    }
   ],
   "source": [
    "stanza_result,tweets_Stanza, correct = stanza_analysis(sub_tweets)"
   ]
  },
  {
   "cell_type": "code",
   "execution_count": 38,
   "metadata": {},
   "outputs": [
    {
     "data": {
      "text/plain": [
       "{'Negativo': 26672, 'Neutro': 47803, 'Positivo': 25368}"
      ]
     },
     "execution_count": 38,
     "metadata": {},
     "output_type": "execute_result"
    }
   ],
   "source": [
    "stanza_result"
   ]
  },
  {
   "cell_type": "code",
   "execution_count": 39,
   "metadata": {},
   "outputs": [
    {
     "data": {
      "text/plain": [
       "<Container object of 3 artists>"
      ]
     },
     "execution_count": 39,
     "metadata": {},
     "output_type": "execute_result"
    },
    {
     "data": {
      "image/png": "[encoded data removed]",
      "text/plain": [
       "<matplotlib.figure.Figure at 0x202f4ff45c0>"
      ]
     },
     "metadata": {},
     "output_type": "display_data"
    }
   ],
   "source": [
    "plt.bar(stanza_result.keys(),stanza_result.values(), color = [\"red\",\"lightblue\",\"green\"])"
   ]
  },
  {
   "cell_type": "code",
   "execution_count": 40,
   "metadata": {
    "scrolled": true
   },
   "outputs": [
    {
     "name": "stdout",
     "output_type": "stream",
     "text": [
      "38818 de 100000 correctas, teniendo un 38.82% clasificados correctamente\n"
     ]
    }
   ],
   "source": [
    "print(f\"{correct} de {len(sub_tweets)} correctas, teniendo un {correct / len(sub_tweets):.2%} clasificados correctamente\")"
   ]
  },
  {
   "cell_type": "code",
   "execution_count": 41,
   "metadata": {},
   "outputs": [
    {
     "data": {
      "text/plain": [
       "(99843, 157)"
      ]
     },
     "execution_count": 41,
     "metadata": {},
     "output_type": "execute_result"
    }
   ],
   "source": [
    "vacio = 0\n",
    "texto = 0\n",
    "for t in sub_tweets:\n",
    "    if t[\"text\"] == \"\":\n",
    "        vacio += 1\n",
    "    else:\n",
    "        texto +=1\n",
    "texto,vacio"
   ]
  },
  {
   "cell_type": "markdown",
   "metadata": {},
   "source": [
    "## Resultados y Discusión\n",
    "\n",
    "| Herramienta| Datos sin pre-procesamiento | Datos con pre-procesamiento |\n",
    "| :----- | :----- | :----- |\n",
    "| VADER | 51.71% | 50.18% |\n",
    "| Stanza| 48.99% | 38.82% |\n",
    "\n",
    "Luego de analizar los resultados se concluye que en parte los bajos porcentajes de acierto se deben a que no todos los tuits están en inglés, ya que cuando se analiza un tuit que no está en ingles el resultado arroja que es neutro.\n",
    "\n",
    "En el caso de VADER tiene sentido que con el pre-procesamiento baje el porcentaje de acierto ya que esta herramienta  está especialmente entrenada para aumentar el peso de la calificación basado en la forma de escribir en redes sociales, tales como signos de puntuación y emoticones.\n",
    "\n",
    "Para el caso de Stanza los porcentajes tan bajo se podría atribuir los bajos porcentajes a que Stanza analiza los textos por sentencias, por lo que se realizó un promedio del valor de todas sus sentencias, se podría mejorar el porcentaje de acierto aplicando otras estrategias con Stanza o simplemente dejando por fuera el intervalo de neutro."
   ]
  },
  {
   "cell_type": "markdown",
   "metadata": {},
   "source": [
    "## Conclusiones\n",
    "\n",
    "VADER y Stanza son herramientas útiles para el análisis de sentimientos para redes sociales, en especial para análisis de textos cortos de redes sociales, aunque si se desea obtener un mejor resultado y se tiene un corpus con muchos datos se recomienda crear una red propia y entrenarla para arrojar mejores resultados, teniendo presentes los tokens no alfanuméricos "
   ]
  },
  {
   "cell_type": "markdown",
   "metadata": {},
   "source": [
    "### Bibliografía"
   ]
  },
  {
   "cell_type": "markdown",
   "metadata": {},
   "source": [
    "[2] Hutto, C.J. & Gilbert, E.E. (2014). VADER: A Parsimonious Rule-based Model for Sentiment Analysis of Social Media Text. Eighth International Conference on Weblogs and Social Media (ICWSM-14). Ann Arbor, MI, June 2014\n",
    "\n",
    "[3] NLP Group, Stanford Univerity, https://github.com/stanfordnlp/stanza\n",
    "\n",
    "[4] https://www.webespacio.com/el-impacto-social-de-twitter/"
   ]
  }
 ],
 "metadata": {
  "kernelspec": {
   "display_name": "Python 3",
   "language": "python",
   "name": "python3"
  },
  "language_info": {
   "codemirror_mode": {
    "name": "ipython",
    "version": 3
   },
   "file_extension": ".py",
   "mimetype": "text/x-python",
   "name": "python",
   "nbconvert_exporter": "python",
   "pygments_lexer": "ipython3",
   "version": "3.6.4"
  }
 },
 "nbformat": 4,
 "nbformat_minor": 2
}
